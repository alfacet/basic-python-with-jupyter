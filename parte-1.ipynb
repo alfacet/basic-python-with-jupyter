{
 "cells": [
  {
   "cell_type": "markdown",
   "metadata": {},
   "source": [
    "Função 1: maior(a, b): Retorna o maior valor entre a e b"
   ]
  },
  {
   "cell_type": "code",
   "execution_count": 67,
   "metadata": {},
   "outputs": [
    {
     "name": "stdout",
     "output_type": "stream",
     "text": [
      "5\n",
      "Os dois são iguais\n",
      "2\n"
     ]
    }
   ],
   "source": [
    "def maior(a: int, b: int) -> int:\n",
    "    maior = a\n",
    "    text = 'Os dois são iguais'\n",
    "\n",
    "    if (b > a): \n",
    "        maior = b\n",
    "        return maior\n",
    "    elif (a > b):\n",
    "        maior = a\n",
    "        return maior\n",
    "    \n",
    "    else: return text\n",
    "\n",
    "\n",
    "print(maior(4, 5))\n",
    "print(maior(10, 10))\n",
    "print(maior(2, -1))"
   ]
  },
  {
   "cell_type": "markdown",
   "metadata": {},
   "source": [
    "Função 2: soma(lista, x): retorna o somatório dos valores passados pela lista. O argumento x deve ser opcional que, se passado, será somado ao resultado final"
   ]
  },
  {
   "cell_type": "code",
   "execution_count": 99,
   "metadata": {},
   "outputs": [
    {
     "name": "stdout",
     "output_type": "stream",
     "text": [
      "10\n",
      "6\n",
      "6\n"
     ]
    }
   ],
   "source": [
    "def soma(lista: int, x = 0) -> int:\n",
    "    soma = 0\n",
    "    \n",
    "    for i in lista:\n",
    "        soma = soma + i\n",
    "        \n",
    "    return soma + x\n",
    "\n",
    "print(soma([1, 2, 3], 4))\n",
    "print(soma([1, 2, 3]))\n",
    "print(soma([3, 2, 1, 0, -3], 3))"
   ]
  },
  {
   "cell_type": "markdown",
   "metadata": {},
   "source": [
    "Função 3: media(lista): Retorna a média dos valores passados pela lista."
   ]
  },
  {
   "cell_type": "code",
   "execution_count": 117,
   "metadata": {},
   "outputs": [
    {
     "name": "stdout",
     "output_type": "stream",
     "text": [
      "20.0\n",
      "5.0\n",
      "55.0\n"
     ]
    }
   ],
   "source": [
    "def media(lista: float) -> float:\n",
    "    soma = 0\n",
    "\n",
    "    for i in lista: soma = soma + i\n",
    "        \n",
    "    media = soma / len(lista)\n",
    "    return media\n",
    "\n",
    "print(media([10, 30]))\n",
    "print(media([10, 0]))\n",
    "print(media([100, 10]))"
   ]
  },
  {
   "cell_type": "markdown",
   "metadata": {},
   "source": [
    "Função 4: valores_iguais(lista1, lista2): retorna uma lista contendo os valores iguais entre as duas listas passadas como parâmetro"
   ]
  },
  {
   "cell_type": "code",
   "execution_count": 146,
   "metadata": {},
   "outputs": [
    {
     "name": "stdout",
     "output_type": "stream",
     "text": [
      "[0, 1, 2]\n",
      "[1]\n",
      "[]\n"
     ]
    }
   ],
   "source": [
    "def valores_iguais(lista1: int, lista2: int) -> int:\n",
    "    novaLista = []\n",
    "\n",
    "    for i in lista1:\n",
    "        for j in lista2:\n",
    "            if (i == j): \n",
    "                novaLista.append(i)\n",
    "\n",
    "    return novaLista\n",
    "\n",
    "print(valores_iguais([0, 1, 2], [2, 1, 0]))\n",
    "print(valores_iguais([5, 9, 1, 2], [4, 0, 4, 1]))\n",
    "print(valores_iguais([6, 9, 4, 2], [26, 30, 32, 18]))"
   ]
  },
  {
   "cell_type": "markdown",
   "metadata": {},
   "source": [
    "indice_prim_valor_igual(lista1,lista2): retorna a posição na lista1 do primeiro valor igual ao da lista2. Caso não exista, é retornado None."
   ]
  },
  {
   "cell_type": "code",
   "execution_count": 181,
   "metadata": {},
   "outputs": [
    {
     "name": "stdout",
     "output_type": "stream",
     "text": [
      "2\n",
      "0\n",
      "3\n"
     ]
    }
   ],
   "source": [
    "def indice_prim_valor_igual(lista1: int, lista2: int) -> int:\n",
    "    for i, elemento1 in enumerate(lista1):\n",
    "        for j, elemento2 in enumerate(lista2):\n",
    "            if (elemento1 == elemento2):\n",
    "                return str(i)\n",
    "\n",
    "\n",
    "print(indice_prim_valor_igual([0, 1, 3], [3, 9, 5]))\n",
    "print(indice_prim_valor_igual([-3, 9, 3], [-3, 9, 5, 2]))\n",
    "print(indice_prim_valor_igual([-4, 0, -7, -16], [-1, -16]))"
   ]
  }
 ],
 "metadata": {
  "interpreter": {
   "hash": "173b22026acab491ca834d7ec2a1e195d4fa21853426ea938299e8e6e6678d9f"
  },
  "kernelspec": {
   "display_name": "Python 3.10.2 64-bit (windows store)",
   "language": "python",
   "name": "python3"
  },
  "language_info": {
   "codemirror_mode": {
    "name": "ipython",
    "version": 3
   },
   "file_extension": ".py",
   "mimetype": "text/x-python",
   "name": "python",
   "nbconvert_exporter": "python",
   "pygments_lexer": "ipython3",
   "version": "3.10.2"
  },
  "orig_nbformat": 4
 },
 "nbformat": 4,
 "nbformat_minor": 2
}
