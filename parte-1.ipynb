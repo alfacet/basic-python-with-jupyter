{
 "cells": [
  {
   "cell_type": "markdown",
   "metadata": {},
   "source": [
    "maior(a, b): Retorna o maior valor entre a e b"
   ]
  },
  {
   "cell_type": "code",
   "execution_count": 67,
   "metadata": {},
   "outputs": [
    {
     "name": "stdout",
     "output_type": "stream",
     "text": [
      "5\n",
      "Os dois são iguais\n",
      "2\n"
     ]
    }
   ],
   "source": [
    "def maior(a: int, b: int) -> int:\n",
    "    maior = a\n",
    "    text = 'Os dois são iguais'\n",
    "\n",
    "    if (b > a): \n",
    "        maior = b\n",
    "        return maior\n",
    "    elif (a > b):\n",
    "        maior = a\n",
    "        return maior\n",
    "    \n",
    "    else: return text\n",
    "\n",
    "\n",
    "print(maior(4, 5))\n",
    "print(maior(10, 10))\n",
    "print(maior(2, -1))"
   ]
  },
  {
   "cell_type": "markdown",
   "metadata": {},
   "source": [
    "soma(lista, x): retorna o somatório dos valores passados pela lista. O argumento x deve ser opcional que, se passado, será somado ao resultado final"
   ]
  },
  {
   "cell_type": "code",
   "execution_count": 98,
   "metadata": {},
   "outputs": [
    {
     "name": "stdout",
     "output_type": "stream",
     "text": [
      "10\n",
      "6\n",
      "6\n"
     ]
    }
   ],
   "source": [
    "def soma(lista: int, x = 0) -> int:\n",
    "    soma = 0\n",
    "    for i in lista:\n",
    "        soma = soma + i\n",
    "    return soma + x\n",
    "\n",
    "print(soma([1, 2, 3], 4))\n",
    "print(soma([1, 2, 3]))\n",
    "print(soma([3, 2, 1, 0, -3], 3))"
   ]
  }
 ],
 "metadata": {
  "interpreter": {
   "hash": "173b22026acab491ca834d7ec2a1e195d4fa21853426ea938299e8e6e6678d9f"
  },
  "kernelspec": {
   "display_name": "Python 3.10.2 64-bit (windows store)",
   "language": "python",
   "name": "python3"
  },
  "language_info": {
   "codemirror_mode": {
    "name": "ipython",
    "version": 3
   },
   "file_extension": ".py",
   "mimetype": "text/x-python",
   "name": "python",
   "nbconvert_exporter": "python",
   "pygments_lexer": "ipython3",
   "version": "3.10.2"
  },
  "orig_nbformat": 4
 },
 "nbformat": 4,
 "nbformat_minor": 2
}
