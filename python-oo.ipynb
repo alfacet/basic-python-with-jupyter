{
 "cells": [
  {
   "cell_type": "markdown",
   "metadata": {},
   "source": [
    "# Python Orientado a Objetos\n",
    "### Filipe Davi Gomes - voluntário do projeto DeepWiki"
   ]
  },
  {
   "cell_type": "markdown",
   "metadata": {},
   "source": [
    "### Prática - Uso de Programação Orientada a Objetos\n",
    "#### Classe \"Autor\"\n",
    "\n",
    "- `Autor`: Possui o nome representado por três atributos: primeiro nome, nome do meio e último nome além da data de nascimento (você pode usar a classe pessoa e adaptá-la). Todos esses atributos devem ser fornecidos no construtor, porém, o nome do meio é opcional (valor default = ‘’).\n",
    "\n",
    "- O autor possuirá o atributo calculado `nome_como_citado` que irá retornar o último nome maiúsculo e a primeira letra do primeiro nome e, logo após, um ponto. Exemplo: “DALIP D.” sendo que Dalip é o último nome de Daniel é o primeiro nome. Nesse atributo, o nome do meio não será usado."
   ]
  },
  {
   "cell_type": "code",
   "execution_count": 108,
   "metadata": {},
   "outputs": [
    {
     "name": "stdout",
     "output_type": "stream",
     "text": [
      "Nome do autor: Bilbo Sorvete Bolseiro. Data de nascimento: 03/01/1892\n",
      "BOLSEIRO B.\n"
     ]
    }
   ],
   "source": [
    "class Autor:\n",
    "    def __init__(self, primeiro_nome, ultimo_nome, data_nascimento, meio_nome = ''):\n",
    "        self.data_nascimento = data_nascimento\n",
    "        self.primeiro_nome = primeiro_nome\n",
    "        self.meio_nome = meio_nome\n",
    "        self.ultimo_nome = ultimo_nome\n",
    "\n",
    "    @property\n",
    "    def nome_como_citado(self):\n",
    "        return f'{self.ultimo_nome.upper()} {self.primeiro_nome[0].upper()}.'\n",
    "\n",
    "    def __str__(self):\n",
    "        return f'Nome do autor: {self.primeiro_nome} {self.meio_nome} {self.ultimo_nome}. Data de nascimento: {self.data_nascimento}'\n",
    "\n",
    "    def __repr__(self):\n",
    "        return str(self)\n",
    "\n",
    "bilbo = Autor('Bilbo', 'Bolseiro', '03/01/1892', 'Sorvete')\n",
    "\n",
    "print(bilbo)\n",
    "print(bilbo.nome_como_citado)"
   ]
  },
  {
   "cell_type": "markdown",
   "metadata": {},
   "source": [
    "#### Classe \"Livro\"\n",
    "\n",
    "- `Livro`: Possui os atributos: titulo, ano e uma lista de autores.\n",
    "- O título não poderá ser vazio, caso seja, você irá lançar uma exceção `ValueError`. Use a anotação `@property` para isso (veja slide).\n",
    "No construtor, a lista de autores pode ser omitida (sendo uma lista vazia `[]` por padrão).\n"
   ]
  },
  {
   "cell_type": "code",
   "execution_count": 12,
   "metadata": {},
   "outputs": [
    {
     "name": "stdout",
     "output_type": "stream",
     "text": [
      "Livro: O bosque encantado de um castelo no sudoeste da terra-menor de Ivrektel\n",
      "Ano: 1876\n",
      "Autor: The Wok\n"
     ]
    }
   ],
   "source": [
    "class Livro:\n",
    "    def __init__(self, titulo, ano, autor = []):\n",
    "        self.titulo = titulo\n",
    "        self.ano = ano\n",
    "        self.autor = autor\n",
    "\n",
    "    @property\n",
    "    def titulo(self):\n",
    "        return self._titulo\n",
    "\n",
    "    def titulo(self, value):\n",
    "        if self.titulo == None: \n",
    "            raise ValueError('Erro! Não há livro sem título. Pane no sistema.')\n",
    "        self._titulo = value\n",
    "\n",
    "    def __str__(self):\n",
    "        return f'Livro: {self.titulo}\\nAno: {self.ano}\\nAutor: {self.autor}'\n",
    "    \n",
    "    def __repr__(self):\n",
    "        return str(self)\n",
    "\n",
    "livro = Livro('O bosque encantado de um castelo no sudoeste da terra-menor de Ivrektel', '1876', 'The Wok')\n",
    "print(livro)\n",
    "\n"
   ]
  },
  {
   "cell_type": "markdown",
   "metadata": {},
   "source": [
    "#### Classe \"Biblioteca\"\n",
    "\n",
    "- Possui uma lista de livros. Ela deve possuir um atributo calculado `livros_por_autor` que utilizará a lista de livros para retornar um dicionário onde cada chave será o nome de um autor e, cada valor, será a lista de livros deste autor"
   ]
  },
  {
   "cell_type": "code",
   "execution_count": 59,
   "metadata": {},
   "outputs": [
    {
     "name": "stdout",
     "output_type": "stream",
     "text": [
      "{'Tolkien': ('A Sociedade do Anel', 'O Retorno do Rei', 'As duas torres', 'O Hobbit')}\n",
      "{'Genérico': 'Genéricos'}\n"
     ]
    }
   ],
   "source": [
    "class Biblioteca:\n",
    "    def __init__(self, autor, livros):\n",
    "        self.autor = autor\n",
    "        self.livros = livros\n",
    "        \n",
    "    @property\n",
    "    def livros_por_autor(self):\n",
    "        livros_por_autor = {self.autor: self.livros}\n",
    "        return livros_por_autor\n",
    "        \n",
    "    def __str__(self):\n",
    "        return f'{self.autor} {self.livros}'\n",
    "        \n",
    "    def __repr__(self):\n",
    "        return str(self)\n",
    "\n",
    "tolkien = 'Tolkien'\n",
    "livrosT = 'A Sociedade do Anel', 'O Retorno do Rei', 'As duas torres', 'O Hobbit'\n",
    "print(Biblioteca(tolkien, livrosT).livros_por_autor)\n",
    "\n",
    "autor = 'Genérico'\n",
    "livros = 'Genéricos'\n",
    "print(Biblioteca(autor, livros).livros_por_autor)\n"
   ]
  },
  {
   "cell_type": "markdown",
   "metadata": {},
   "source": []
  },
  {
   "cell_type": "markdown",
   "metadata": {},
   "source": [
    "### Mais sobre funções e Métodos úteis\n",
    "#### Aquecimento\n",
    "##### Exercício 0.1\n",
    "\n",
    "Implemente a função `metodos_vetor` que recebe como parâmetro um vetor e retorna o próprio, porém com as seguintes modificações:\n",
    "\n",
    "- Ordene o vetor de forma crescente\n",
    "- Remova o último elemento do vetor (quando já ordenado)\n",
    "- Insira a palavra abacate no início\n",
    "- Retorne o vetor resultante"
   ]
  },
  {
   "cell_type": "code",
   "execution_count": 12,
   "metadata": {},
   "outputs": [
    {
     "name": "stdout",
     "output_type": "stream",
     "text": [
      "['abacate', 'abacaxi', 'maçã', 'pera']\n"
     ]
    }
   ],
   "source": [
    "def metodos_vetor(array):\n",
    "    array.sort()\n",
    "    array.pop()\n",
    "    array.insert(0, 'abacate')\n",
    "\n",
    "    return array\n",
    "\n",
    "vetor_str = [\"uva\", \"maçã\", \"abacaxi\", \"pera\"]\n",
    "\n",
    "vetor_final = metodos_vetor(vetor_str)\n",
    "print(vetor_final)"
   ]
  },
  {
   "cell_type": "markdown",
   "metadata": {},
   "source": [
    "##### Exercício 0.2\n",
    "\n",
    "Implemente a função `metodos_string` que recebe como parâmetro uma string e a retorna com as seguintes modificações:\n",
    "\n",
    "- Deixá-la toda maiúscula\n",
    "- Substituir todas as letras \"o\" por \"a\"\n",
    "- Escreva a string resultante"
   ]
  },
  {
   "cell_type": "code",
   "execution_count": 40,
   "metadata": {},
   "outputs": [
    {
     "name": "stdout",
     "output_type": "stream",
     "text": [
      "CAMEMARAÇÃA\n",
      "ALHA\n"
     ]
    }
   ],
   "source": [
    "def metodos_string(string):\n",
    "    string = string.upper()\n",
    "    string = string.replace('O', 'A')\n",
    "\n",
    "    return string\n",
    "\n",
    "str_1 = \"comemoração\"\n",
    "str_2 = \"olho\"\n",
    "\n",
    "print(f'{metodos_string(str_1)}\\n{metodos_string(str_2)}')"
   ]
  },
  {
   "cell_type": "markdown",
   "metadata": {},
   "source": [
    "##### Exercício 1: Conversão de datas\n",
    "\n",
    "Implemente a função `converte_data` que recebe como parâmetro uma data no formato DD/MM/YYYY (ex: 09/03/2021) e converte para o formato por extenso \"DD de M de YYYY\" (ou seja, 09 de março de 2020) e escreva-a."
   ]
  },
  {
   "cell_type": "code",
   "execution_count": 38,
   "metadata": {},
   "outputs": [
    {
     "name": "stdout",
     "output_type": "stream",
     "text": [
      "31 de outubro de 20\n",
      "22 de janeiro de 20\n"
     ]
    }
   ],
   "source": [
    "def obtem_mes(num_mes):\n",
    "    if (num_mes <= 0 or num_mes > 12): return (f\"{num_mes} é inválido\")\n",
    "    \n",
    "    meses = [\n",
    "        \"janeiro\",\n",
    "        \"fevereiro\",\n",
    "        \"março\",\n",
    "        \"abril\",\n",
    "        \"maio\",\n",
    "        \"junho\",\n",
    "        \"julho\",\n",
    "        \"agosto\",\n",
    "        \"setembro\",\n",
    "        \"outubro\",\n",
    "        \"novembro\",\n",
    "        \"dezembro\"\n",
    "    ]\n",
    "\n",
    "    meses[num_mes] = meses[num_mes - 1]\n",
    "    \n",
    "    return meses[num_mes]\n",
    "\n",
    "\n",
    "def converte_data(data):\n",
    "    data = f'{data[0:2]} de {obtem_mes(int((data[3:5])))} de {data[6:8]}'\n",
    "\n",
    "    return data\n",
    "\n",
    "data_1 = \"31/10/2020\"\n",
    "data_2 = \"22/01/2004\"\n",
    "\n",
    "print(f'{converte_data(data_1)}\\n{converte_data(data_2)}')\n",
    "\n",
    "\n"
   ]
  },
  {
   "cell_type": "markdown",
   "metadata": {},
   "source": [
    "##### Exercício 2: Operações em string\n",
    "\n",
    "Implemente duas funções que auxiliarão nos exercícios posteriores:\n",
    "\n",
    "- **elimina_caracteres** (2 parâmetros) Elimina todas as ocorrências dos caracteres especificados de um texto. Tanto o texto quanto os caracteres a serem removidos são passados como parâmetros. Exemplo: `elimina_caracteres('correndo contra o tempo', 'coe')` devem resultar na string `rrnd cntra tmp`. "
   ]
  },
  {
   "cell_type": "code",
   "execution_count": 50,
   "metadata": {},
   "outputs": [
    {
     "name": "stdout",
     "output_type": "stream",
     "text": [
      "rrnd ntra  tmp\n",
      "trg para tgrs trsts\n"
     ]
    }
   ],
   "source": [
    "def elimina_caracteres(texto, caracteres_para_eliminar):\n",
    "    for caracter_eliminar in caracteres_para_eliminar:\n",
    "        texto = texto.replace(caracter_eliminar, '')\n",
    "\n",
    "    return texto\n",
    "\n",
    "resultado_1 = elimina_caracteres('correndo contra o tempo', 'coe')\n",
    "resultado_2 = elimina_caracteres('trigo para tigres tristes', 'ieo')\n",
    "\n",
    "print(f'{resultado_1}\\n{resultado_2}')"
   ]
  },
  {
   "cell_type": "markdown",
   "metadata": {},
   "source": [
    "- **substitua_caracteres**: (3 parâmetros) Dado um texto, uma string de procura e uma string de reposição, sendo que a string de procura e reposição são de mesmo tamanho. Substitua no texto o caractere na posição i da string de procura pelo caractere na mesma posição i na string de reposição. O texto, os caracteres a serem procurados no texto e os caracteres a serem colocados no lugar serão passados como parâmetro."
   ]
  },
  {
   "cell_type": "code",
   "execution_count": 51,
   "metadata": {},
   "outputs": [
    {
     "name": "stdout",
     "output_type": "stream",
     "text": [
      "i sipi nii livi i pu\n",
      "unu cempreu umu urerunhu\n"
     ]
    }
   ],
   "source": [
    "def substitua_caracteres(texto, caracteres_procura, caracteres_substituir_por):\n",
    "    for i in range(len(caracteres_procura)):\n",
    "        caractere_procura = caracteres_procura[i]\n",
    "        caractere_substituir_por = caracteres_substituir_por[i]\n",
    "        texto = texto.replace(caractere_procura, caractere_substituir_por)\n",
    "        \n",
    "    return texto\n",
    "\n",
    "resultado_1 = substitua_caracteres('o sapo nao lava o pe', 'aoe', 'iiu')\n",
    "resultado_2 = substitua_caracteres('ana comprou uma ariranha', 'aoi', 'uee')\n",
    "\n",
    "print(f'{resultado_1}\\n{resultado_2}')"
   ]
  },
  {
   "cell_type": "markdown",
   "metadata": {},
   "source": [
    "##### Exercício 3: Palíndromos\n",
    "\n",
    "Implemente a função `verifica_palindromo` que recebe como parâmetro uma string (texto ou única palavra) e retorna true caso o parâmetro seja um palíndromo ou false, caso contrário."
   ]
  },
  {
   "cell_type": "code",
   "execution_count": 38,
   "metadata": {},
   "outputs": [
    {
     "name": "stdout",
     "output_type": "stream",
     "text": [
      "True\n",
      "False\n"
     ]
    }
   ],
   "source": [
    "def verifica_palindromo(string: str) -> bool:\n",
    "    char = ', - ! ?'\n",
    "\n",
    "    for i in range(0, len(char)):\n",
    "        string = string.replace(char[i], ' ')\n",
    "\n",
    "    string = string.replace(' ', '')\n",
    "\n",
    "    if (string == string[::-1]): return True\n",
    "    else: return False\n",
    "\n",
    "print(f'{verifica_palindromo(\"apos a sopa\")}\\n{verifica_palindromo(\"azul\")}')"
   ]
  },
  {
   "cell_type": "markdown",
   "metadata": {},
   "source": [
    "### Funções como parâmetro"
   ]
  },
  {
   "cell_type": "markdown",
   "metadata": {},
   "source": [
    "#### Exercício 4: Funções como parâmetro 1\n",
    "\n",
    "Veja a `função da_oi_para` é uma função que imprime uma \"interface de dar oi\" para determinada pessoa. A forma de se dar oi é controlado pelo parâmetro `função_de_dar_oi`, que é uma função que recebe o nome da pessoa e é responsável por retorna uma string com o \"oi\" devidamente escrito em seu idioma. Além desse parâmetro, a função `da_oi_para` espera o nome da pessoa. "
   ]
  },
  {
   "cell_type": "code",
   "execution_count": 52,
   "metadata": {},
   "outputs": [
    {
     "name": "stdout",
     "output_type": "stream",
     "text": [
      "============= Minha linda interface de dar oi =========\n",
      "Leia. Leia a sociedade industrial e o futuro dela, Pessoinha. Imediatamente.\n",
      "=========================================================\n",
      "============= Minha linda interface de dar oi =========\n",
      "Eu notei que, embora este subreddit tenha 900k de leitores, eu não tenho recebido 900k de upvotes nos meus posts, Pessoinha. Eu não sei se isso vem sendo feito intencionalmente ou se esses amigos estão se esquecendo de clicar em upvote. De qualquer jeito, essa foi a gota dágua. Eu levantei uma lista dos indivíduos que têm \"se esquecido\" de votar nos meus posts mais recentes. Depois de 2 strikes consecutivos, seu nome ficará automaticamente marcado de vermelho e eu serei notificado imediatamente. 3 strikes consecutivos e é melhor você se preparar para uma consulta minha em pessoa. Reflita sobre suas ações.\n",
      "=========================================================\n",
      "============= Minha linda interface de dar oi =========\n",
      "Navegando por aparelho móvel, Pessoinha.\n",
      "=========================================================\n"
     ]
    }
   ],
   "source": [
    "def da_oi_para(funcao_de_dar_oi, str_pessoa):\n",
    "    #independente do nome da função externa, invocamos ela como funcao_de_dar_oi\n",
    "    str_oi = funcao_de_dar_oi(str_pessoa)\n",
    "    \n",
    "    print(\"============= Minha linda interface de dar oi =========\")\n",
    "    print(str_oi)\n",
    "    print(\"=========================================================\")\n",
    "\n",
    "def porque_nao_tenho_x_upvotes(str_pessoa):\n",
    "    return f'Eu notei que, embora este subreddit tenha 900k de leitores, eu não tenho recebido 900k de upvotes nos meus posts, {str_pessoa}. Eu não sei se isso vem sendo feito intencionalmente ou se esses amigos estão se esquecendo de clicar em upvote. De qualquer jeito, essa foi a gota dágua. Eu levantei uma lista dos indivíduos que têm \"se esquecido\" de votar nos meus posts mais recentes. Depois de 2 strikes consecutivos, seu nome ficará automaticamente marcado de vermelho e eu serei notificado imediatamente. 3 strikes consecutivos e é melhor você se preparar para uma consulta minha em pessoa. Reflita sobre suas ações.'\n",
    "\n",
    "oi_sociedade = lambda str_pessoa: f'Leia. Leia a sociedade industrial e o futuro dela, {str_pessoa}. Imediatamente.'\n",
    "\n",
    "\n",
    "da_oi_para(oi_sociedade, \"Pessoinha\")\n",
    "da_oi_para(porque_nao_tenho_x_upvotes, 'Pessoinha')\n",
    "da_oi_para(lambda str_pessoa : f\"Navegando por aparelho móvel, {str_pessoa}.\", \"Pessoinha\")\n"
   ]
  },
  {
   "cell_type": "markdown",
   "metadata": {},
   "source": [
    "#### Exercício 5: Funções como parâmetro 2\n",
    "\n",
    "Implementar a função `executa_operacao_vetor` que recebe como parâmetro uma operação (função) e dois vetores, `vetor1` e `vetor2`, de mesmo tamanho, e executa uma operação entre os elementos da mesma posição deste vetor. Esta operação é uma função que será chamada para cada posição deste vetor (ex: `operacao(vetor1[i], vetor2[i]`) e retornará o resultado desta operação"
   ]
  },
  {
   "cell_type": "code",
   "execution_count": 84,
   "metadata": {},
   "outputs": [
    {
     "name": "stdout",
     "output_type": "stream",
     "text": [
      "[4, 6]\n",
      "['-2', '-2']\n",
      "None\n"
     ]
    }
   ],
   "source": [
    "def sum(x, y):\n",
    "    return x + y\n",
    "\n",
    "subtrai = lambda x, y: f'{(x - y)}'\n",
    "\n",
    "def executa_operacao_vetor(operacao, array1, array2):\n",
    "    arrayResult = []\n",
    "\n",
    "    if (len(array1) == len(array2)):\n",
    "        for i in range(0, len(array1)):\n",
    "            arrayResult.append(operacao(array1[i], array2[i]))\n",
    "\n",
    "        return arrayResult\n",
    "\n",
    "    else: return None\n",
    "\n",
    "print(executa_operacao_vetor(sum, [1, 2], [3, 4]))\n",
    "print(executa_operacao_vetor(subtrai, [1, 2], [3, 4]))\n",
    "print(executa_operacao_vetor(lambda x, y : f'{(x + y / 2)}', [1], [3, 4]))\n",
    "\n",
    "    "
   ]
  }
 ],
 "metadata": {
  "interpreter": {
   "hash": "173b22026acab491ca834d7ec2a1e195d4fa21853426ea938299e8e6e6678d9f"
  },
  "kernelspec": {
   "display_name": "Python 3 (ipykernel)",
   "language": "python",
   "name": "python3"
  },
  "language_info": {
   "codemirror_mode": {
    "name": "ipython",
    "version": 3
   },
   "file_extension": ".py",
   "mimetype": "text/x-python",
   "name": "python",
   "nbconvert_exporter": "python",
   "pygments_lexer": "ipython3",
   "version": "3.10.2"
  }
 },
 "nbformat": 4,
 "nbformat_minor": 2
}
